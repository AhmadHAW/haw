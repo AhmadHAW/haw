{
 "cells": [
  {
   "cell_type": "markdown",
   "metadata": {},
   "source": [
    "## Robot Run"
   ]
  },
  {
   "cell_type": "markdown",
   "metadata": {},
   "source": [
    "In a certain terrain a Robot (R) has to navigate to a Goal (G) avoiding Blocks (B) and human player (H)"
   ]
  },
  {
   "cell_type": "code",
   "execution_count": 1,
   "metadata": {},
   "outputs": [],
   "source": [
    "terrain = [\n",
    "    [\"R\", \"_\", \"_\", \"_\"],\n",
    "    [\"_\", \"_\", \"B\", \"_\"],\n",
    "    [\"H\", \"_\", \"B\", \"_\"],\n",
    "    [\"B\", \"_\", \"G\", \"_\"]   \n",
    "]"
   ]
  },
  {
   "cell_type": "code",
   "execution_count": 26,
   "metadata": {},
   "outputs": [],
   "source": [
    "from copy import deepcopy\n",
    "\n",
    "robot_symbol = 'R'\n",
    "robot_win_symbol = '*'\n",
    "goal_symbol = 'G'\n",
    "human_symbol = 'H'\n",
    "blank_symbol = '_'\n",
    "\n",
    "def is_robot_win(state):\n",
    "    for row in state:\n",
    "        for field in row:\n",
    "            if field == robot_win_symbol:\n",
    "                return True\n",
    "    return False   \n",
    "\n",
    "def as_string(state):\n",
    "    s = ''\n",
    "    for row in state:\n",
    "        row_string = ''\n",
    "        for field in row:\n",
    "            row_string += field + ' '\n",
    "        s += row_string + '\\n'\n",
    "    return s\n",
    "\n",
    "def locate_robot(state):\n",
    "    for row_index, row in enumerate(state):\n",
    "        for column_index, field in enumerate(row):\n",
    "            if field == robot_symbol:\n",
    "                return (row_index, column_index)\n",
    "\n",
    "def check_robot(state, robot):\n",
    "    max_row = len(state) - 1\n",
    "    max_column = len(state[0]) - 1\n",
    "    if robot[0] < 0 or robot[0] > max_row or robot[1] < 0 or robot[1] > max_column:\n",
    "        return False\n",
    "    symbol = state[robot[0]][robot[1]]\n",
    "    if symbol != blank_symbol and symbol != goal_symbol:\n",
    "        return False\n",
    "    return True\n",
    "            \n",
    "def robot_moves(state):\n",
    "    robot = locate_robot(state)\n",
    "    left = (robot[0], robot[1] - 1)\n",
    "    right = (robot[0], robot[1] + 1)\n",
    "    up = (robot[0] - 1, robot[1])\n",
    "    down = (robot[0] + 1, robot[1])\n",
    "    valid_moves = [move for move in (left, right, down, up) if check_robot(state, move)]\n",
    "    return valid_moves\n",
    "            \n",
    "def place_robot(state, robot):\n",
    "    old_robot = locate_robot(state)\n",
    "    new_state = deepcopy(state)\n",
    "    new_state[old_robot[0]][old_robot[1]] = blank_symbol\n",
    "    if new_state[robot[0]][robot[1]] == goal_symbol:\n",
    "        new_state[robot[0]][robot[1]] = robot_win_symbol\n",
    "    else:\n",
    "        new_state[robot[0]][robot[1]] = robot_symbol\n",
    "    return new_state\n",
    "\n",
    "def expand(state):\n",
    "    valid_moves = robot_moves(state)\n",
    "    new_states = [(robot, place_robot(state, robot)) for robot in valid_moves]\n",
    "    return new_states"
   ]
  },
  {
   "cell_type": "code",
   "execution_count": 88,
   "metadata": {},
   "outputs": [],
   "source": [
    "# https://en.wikipedia.org/wiki/Depth-first_search\n",
    "# 1  procedure DFS(G,v):\n",
    "# 2      label v as discovered\n",
    "# 3      for all edges from v to w in G.adjacentEdges(v) do\n",
    "# 4          if vertex w is not labeled as discovered then\n",
    "# 5              recursively call DFS(G,w)\n",
    "\n",
    "def depth_first_search(state, max_depth=10, debug=False, closed_list=[], depth = 0, path=[]):\n",
    "    if as_string(state) in closed_list or depth > max_depth:\n",
    "        return None\n",
    "    \n",
    "    if debug:\n",
    "        print('depth', depth)\n",
    "        print('closed_list', closed_list)\n",
    "        print('path', path)\n",
    "        print('state', as_string(state))\n",
    "        \n",
    "    if is_robot_win(state):\n",
    "        return path\n",
    "    \n",
    "    closed_list = closed_list + [as_string(state)]\n",
    "    \n",
    "    for move, next_state in expand(state):\n",
    "        new_path = path + [move]\n",
    "        res = depth_first_search(next_state, max_depth, debug, closed_list, depth + 1, new_path)\n",
    "        if res:\n",
    "            return res"
   ]
  },
  {
   "cell_type": "code",
   "execution_count": 89,
   "metadata": {},
   "outputs": [
    {
     "data": {
      "text/plain": [
       "[(0, 1), (0, 2), (0, 3), (1, 3), (2, 3), (3, 3), (3, 2)]"
      ]
     },
     "execution_count": 89,
     "metadata": {},
     "output_type": "execute_result"
    }
   ],
   "source": [
    "# this does not find the best path\n",
    "depth_first_search(terrain, 7)"
   ]
  },
  {
   "cell_type": "code",
   "execution_count": 90,
   "metadata": {},
   "outputs": [
    {
     "data": {
      "text/plain": [
       "[(0, 1), (1, 1), (2, 1), (3, 1), (3, 2)]"
      ]
     },
     "execution_count": 90,
     "metadata": {},
     "output_type": "execute_result"
    }
   ],
   "source": [
    "# if we restrict ourselves to only five levels we find the best\n",
    "depth_first_search(terrain, 5)"
   ]
  },
  {
   "cell_type": "markdown",
   "metadata": {},
   "source": [
    "## Understanding the search in a simplified terrain"
   ]
  },
  {
   "cell_type": "code",
   "execution_count": 91,
   "metadata": {},
   "outputs": [],
   "source": [
    "simple_terrain = [\n",
    "    [\"R\", \"_\", \"_\", \"_\"],\n",
    "    [\"B\", \"_\", \"G\", \"_\"] \n",
    "]"
   ]
  },
  {
   "cell_type": "code",
   "execution_count": 92,
   "metadata": {},
   "outputs": [
    {
     "name": "stdout",
     "output_type": "stream",
     "text": [
      "depth 0\n",
      "closed_list []\n",
      "path []\n",
      "state R _ _ _ \n",
      "B _ G _ \n",
      "\n",
      "depth 1\n",
      "closed_list ['R _ _ _ \\nB _ G _ \\n']\n",
      "path [(0, 1)]\n",
      "state _ R _ _ \n",
      "B _ G _ \n",
      "\n",
      "depth 2\n",
      "closed_list ['R _ _ _ \\nB _ G _ \\n', '_ R _ _ \\nB _ G _ \\n']\n",
      "path [(0, 1), (0, 2)]\n",
      "state _ _ R _ \n",
      "B _ G _ \n",
      "\n",
      "depth 3\n",
      "closed_list ['R _ _ _ \\nB _ G _ \\n', '_ R _ _ \\nB _ G _ \\n', '_ _ R _ \\nB _ G _ \\n']\n",
      "path [(0, 1), (0, 2), (0, 3)]\n",
      "state _ _ _ R \n",
      "B _ G _ \n",
      "\n",
      "depth 4\n",
      "closed_list ['R _ _ _ \\nB _ G _ \\n', '_ R _ _ \\nB _ G _ \\n', '_ _ R _ \\nB _ G _ \\n', '_ _ _ R \\nB _ G _ \\n']\n",
      "path [(0, 1), (0, 2), (0, 3), (1, 3)]\n",
      "state _ _ _ _ \n",
      "B _ G R \n",
      "\n",
      "depth 5\n",
      "closed_list ['R _ _ _ \\nB _ G _ \\n', '_ R _ _ \\nB _ G _ \\n', '_ _ R _ \\nB _ G _ \\n', '_ _ _ R \\nB _ G _ \\n', '_ _ _ _ \\nB _ G R \\n']\n",
      "path [(0, 1), (0, 2), (0, 3), (1, 3), (1, 2)]\n",
      "state _ _ _ _ \n",
      "B _ * _ \n",
      "\n"
     ]
    },
    {
     "data": {
      "text/plain": [
       "[(0, 1), (0, 2), (0, 3), (1, 3), (1, 2)]"
      ]
     },
     "execution_count": 92,
     "metadata": {},
     "output_type": "execute_result"
    }
   ],
   "source": [
    "depth_first_search(simple_terrain, debug=True)"
   ]
  },
  {
   "cell_type": "code",
   "execution_count": 93,
   "metadata": {},
   "outputs": [
    {
     "name": "stdout",
     "output_type": "stream",
     "text": [
      "depth 0\n",
      "closed_list []\n",
      "path []\n",
      "state R _ _ _ \n",
      "B _ G _ \n",
      "\n",
      "depth 1\n",
      "closed_list ['R _ _ _ \\nB _ G _ \\n']\n",
      "path [(0, 1)]\n",
      "state _ R _ _ \n",
      "B _ G _ \n",
      "\n",
      "depth 2\n",
      "closed_list ['R _ _ _ \\nB _ G _ \\n', '_ R _ _ \\nB _ G _ \\n']\n",
      "path [(0, 1), (0, 2)]\n",
      "state _ _ R _ \n",
      "B _ G _ \n",
      "\n",
      "depth 3\n",
      "closed_list ['R _ _ _ \\nB _ G _ \\n', '_ R _ _ \\nB _ G _ \\n', '_ _ R _ \\nB _ G _ \\n']\n",
      "path [(0, 1), (0, 2), (0, 3)]\n",
      "state _ _ _ R \n",
      "B _ G _ \n",
      "\n",
      "depth 3\n",
      "closed_list ['R _ _ _ \\nB _ G _ \\n', '_ R _ _ \\nB _ G _ \\n', '_ _ R _ \\nB _ G _ \\n']\n",
      "path [(0, 1), (0, 2), (1, 2)]\n",
      "state _ _ _ _ \n",
      "B _ * _ \n",
      "\n"
     ]
    },
    {
     "data": {
      "text/plain": [
       "[(0, 1), (0, 2), (1, 2)]"
      ]
     },
     "execution_count": 93,
     "metadata": {},
     "output_type": "execute_result"
    }
   ],
   "source": [
    "depth_first_search(simple_terrain, max_depth=3, debug=True)"
   ]
  },
  {
   "cell_type": "markdown",
   "metadata": {},
   "source": [
    "## Can we find the best path without restricting the depth?"
   ]
  },
  {
   "cell_type": "code",
   "execution_count": null,
   "metadata": {},
   "outputs": [],
   "source": []
  }
 ],
 "metadata": {
  "kernelspec": {
   "display_name": "Python 3",
   "language": "python",
   "name": "python3"
  },
  "language_info": {
   "codemirror_mode": {
    "name": "ipython",
    "version": 3
   },
   "file_extension": ".py",
   "mimetype": "text/x-python",
   "name": "python",
   "nbconvert_exporter": "python",
   "pygments_lexer": "ipython3",
   "version": "3.6.4"
  }
 },
 "nbformat": 4,
 "nbformat_minor": 2
}
