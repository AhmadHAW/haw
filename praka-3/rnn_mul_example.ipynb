{
  "nbformat": 4,
  "nbformat_minor": 0,
  "metadata": {
    "colab": {
      "name": "rnn-mul-example.ipynb",
      "version": "0.3.2",
      "provenance": []
    },
    "kernelspec": {
      "display_name": "Python 3",
      "language": "python",
      "name": "python3"
    }
  },
  "cells": [
    {
      "cell_type": "markdown",
      "metadata": {
        "id": "view-in-github",
        "colab_type": "text"
      },
      "source": [
        "[View in Colaboratory](https://colab.research.google.com/github/AhmadHAW/haw/blob/master/rnn_mul2_example.ipynb)"
      ]
    },
    {
      "metadata": {
        "id": "k-xzB3vwxh5C",
        "colab_type": "code",
        "colab": {}
      },
      "cell_type": "code",
      "source": [
        "# Adapted from\n",
        "# https://github.com/keras-team/keras/blob/master/examples/addition_rnn.py"
      ],
      "execution_count": 0,
      "outputs": []
    },
    {
      "metadata": {
        "id": "TN_I8U-_xh5Q",
        "colab_type": "code",
        "colab": {
          "base_uri": "https://localhost:8080/",
          "height": 17
        },
        "outputId": "c7e8581b-a5e9-4e49-e279-1f861e73ae8b"
      },
      "cell_type": "code",
      "source": [
        "import warnings\n",
        "warnings.filterwarnings('ignore')"
      ],
      "execution_count": 1,
      "outputs": []
    },
    {
      "metadata": {
        "id": "_XcDo2aRxh5a",
        "colab_type": "code",
        "colab": {
          "base_uri": "https://localhost:8080/",
          "height": 36
        },
        "outputId": "971b398e-57b4-41aa-e714-ce26309b7e33"
      },
      "cell_type": "code",
      "source": [
        "%matplotlib inline\n",
        "%pylab inline"
      ],
      "execution_count": 2,
      "outputs": [
        {
          "output_type": "stream",
          "text": [
            "Populating the interactive namespace from numpy and matplotlib\n"
          ],
          "name": "stdout"
        }
      ]
    },
    {
      "metadata": {
        "id": "WRqqUa-lxh5i",
        "colab_type": "code",
        "colab": {
          "base_uri": "https://localhost:8080/",
          "height": 36
        },
        "outputId": "e0d99076-691d-4e0d-8323-08cccd8ccb77"
      },
      "cell_type": "code",
      "source": [
        "import tensorflow as tf\n",
        "tf.logging.set_verbosity(tf.logging.ERROR)\n",
        "print(tf.__version__)"
      ],
      "execution_count": 3,
      "outputs": [
        {
          "output_type": "stream",
          "text": [
            "1.8.0\n"
          ],
          "name": "stdout"
        }
      ]
    },
    {
      "metadata": {
        "id": "cUaFeZ6sxh5q",
        "colab_type": "text"
      },
      "cell_type": "markdown",
      "source": [
        "### Step 1: Generate sample equations"
      ]
    },
    {
      "metadata": {
        "id": "CATHw8Y6xh5s",
        "colab_type": "code",
        "colab": {
          "base_uri": "https://localhost:8080/",
          "height": 17
        },
        "outputId": "93414dcc-e733-440d-c961-8c75e9c993e2"
      },
      "cell_type": "code",
      "source": [
        "class CharacterTable(object):\n",
        "    \"\"\"Given a set of characters:\n",
        "    + Encode them to a one hot integer representation\n",
        "    + Decode the one hot integer representation to their character output\n",
        "    + Decode a vector of probabilities to their character output\n",
        "    \"\"\"\n",
        "    def __init__(self, chars):\n",
        "        \"\"\"Initialize character table.\n",
        "\n",
        "        # Arguments\n",
        "            chars: Characters that can appear in the input.\n",
        "        \"\"\"\n",
        "        self.chars = sorted(set(chars))\n",
        "        self.char_indices = dict((c, i) for i, c in enumerate(self.chars))\n",
        "        self.indices_char = dict((i, c) for i, c in enumerate(self.chars))\n",
        "\n",
        "    def encode(self, C, num_rows):\n",
        "        \"\"\"One hot encode given string C.\n",
        "\n",
        "        # Arguments\n",
        "            num_rows: Number of rows in the returned one hot encoding. This is\n",
        "                used to keep the # of rows for each data the same.\n",
        "        \"\"\"\n",
        "        x = np.zeros((num_rows, len(self.chars)))\n",
        "        for i, c in enumerate(C):\n",
        "            x[i, self.char_indices[c]] = 1\n",
        "        return x\n",
        "\n",
        "    def decode(self, x, calc_argmax=True):\n",
        "        if calc_argmax:\n",
        "            x = x.argmax(axis=-1)\n",
        "        return ''.join(self.indices_char[x] for x in x)\n"
      ],
      "execution_count": 4,
      "outputs": []
    },
    {
      "metadata": {
        "id": "cm_P4T-Kxh5y",
        "colab_type": "code",
        "colab": {
          "base_uri": "https://localhost:8080/",
          "height": 17
        },
        "outputId": "bf4c8692-2ff9-4e8e-b46d-558e1a4fe485"
      },
      "cell_type": "code",
      "source": [
        "class colors:\n",
        "    ok = '\\033[92m'\n",
        "    fail = '\\033[91m'\n",
        "    close = '\\033[0m'"
      ],
      "execution_count": 5,
      "outputs": []
    },
    {
      "metadata": {
        "id": "nx8YfTbnxh56",
        "colab_type": "code",
        "colab": {
          "base_uri": "https://localhost:8080/",
          "height": 55
        },
        "outputId": "ea326ce5-32ef-4e59-9dc0-ad19fb28a339"
      },
      "cell_type": "code",
      "source": [
        "# Parameters for the model and dataset.\n",
        "TRAINING_SIZE = 50000\n",
        "DIGITS = 3\n",
        "# REVERSE = True\n",
        "REVERSE = False\n",
        "\n",
        "# Maximum length of input is 'int + int' (e.g., '345+678'). Maximum length of\n",
        "# int is DIGITS.\n",
        "MAXLEN = DIGITS + 1 + DIGITS\n",
        "\n",
        "# All the numbers, plus sign and space for padding.\n",
        "chars = '0123456789* '\n",
        "ctable = CharacterTable(chars)\n",
        "\n",
        "questions = []\n",
        "expected = []\n",
        "seen = set()\n",
        "print('Generating data...')\n",
        "while len(questions) < TRAINING_SIZE:\n",
        "    f = lambda: int(''.join(np.random.choice(list('0123456789'))\n",
        "                    for i in range(np.random.randint(1, DIGITS + 1))))\n",
        "    a, b = f(), f()\n",
        "    # Skip any addition questions we've already seen\n",
        "    # Also skip any such that x+Y == Y+x (hence the sorting).\n",
        "    key = tuple(sorted((a, b)))\n",
        "    if key in seen:\n",
        "        continue\n",
        "    seen.add(key)\n",
        "    # Pad the data with spaces such that it is always MAXLEN.\n",
        "    q = '{}*{}'.format(a, b)\n",
        "    query = q + ' ' * (MAXLEN - len(q))\n",
        "    ans = str(a * b)\n",
        "    # Answers can be of maximum size DIGITS + 1.\n",
        "    ans += ' ' * (DIGITS *2 - len(ans))\n",
        "    if REVERSE:\n",
        "        # Reverse the query, e.g., '12+345  ' becomes '  543+21'. (Note the\n",
        "        # space used for padding.)\n",
        "        query = query[::-1]\n",
        "    questions.append(query)\n",
        "    expected.append(ans)\n",
        "print('Total addition questions:', len(questions))"
      ],
      "execution_count": 6,
      "outputs": [
        {
          "output_type": "stream",
          "text": [
            "Generating data...\n",
            "Total addition questions: 50000\n"
          ],
          "name": "stdout"
        }
      ]
    },
    {
      "metadata": {
        "id": "oxbemD_-xh6I",
        "colab_type": "code",
        "colab": {
          "base_uri": "https://localhost:8080/",
          "height": 36
        },
        "outputId": "850d1b92-d8f4-4c10-ca7f-7bf9ad8b2d77"
      },
      "cell_type": "code",
      "source": [
        "questions[0]"
      ],
      "execution_count": 11,
      "outputs": [
        {
          "output_type": "execute_result",
          "data": {
            "text/plain": [
              "'15*7   '"
            ]
          },
          "metadata": {
            "tags": []
          },
          "execution_count": 11
        }
      ]
    },
    {
      "metadata": {
        "id": "svNkMJunxh6Q",
        "colab_type": "code",
        "colab": {
          "base_uri": "https://localhost:8080/",
          "height": 36
        },
        "outputId": "193aa0b9-e567-4923-f7eb-16f4b90e8bdf"
      },
      "cell_type": "code",
      "source": [
        "print('Vectorization...')\n",
        "x = np.zeros((len(questions), MAXLEN, len(chars)), dtype=np.bool)\n",
        "y = np.zeros((len(questions), DIGITS *2, len(chars)), dtype=np.bool)\n",
        "for i, sentence in enumerate(questions):\n",
        "    x[i] = ctable.encode(sentence, MAXLEN)\n",
        "for i, sentence in enumerate(expected):\n",
        "    y[i] = ctable.encode(sentence, DIGITS *2)\n"
      ],
      "execution_count": 12,
      "outputs": [
        {
          "output_type": "stream",
          "text": [
            "Vectorization...\n"
          ],
          "name": "stdout"
        }
      ]
    },
    {
      "metadata": {
        "id": "0eHBU6OQxh6W",
        "colab_type": "code",
        "colab": {
          "base_uri": "https://localhost:8080/",
          "height": 36
        },
        "outputId": "a44da06b-03d5-415c-d838-b407e24c74da"
      },
      "cell_type": "code",
      "source": [
        "len(x[0])"
      ],
      "execution_count": 13,
      "outputs": [
        {
          "output_type": "execute_result",
          "data": {
            "text/plain": [
              "7"
            ]
          },
          "metadata": {
            "tags": []
          },
          "execution_count": 13
        }
      ]
    },
    {
      "metadata": {
        "id": "nVTzXzaZxh6c",
        "colab_type": "code",
        "colab": {
          "base_uri": "https://localhost:8080/",
          "height": 36
        },
        "outputId": "f3889d5f-db9b-417b-af7f-5b4f955dfa22"
      },
      "cell_type": "code",
      "source": [
        "len(questions[0])"
      ],
      "execution_count": 14,
      "outputs": [
        {
          "output_type": "execute_result",
          "data": {
            "text/plain": [
              "7"
            ]
          },
          "metadata": {
            "tags": []
          },
          "execution_count": 14
        }
      ]
    },
    {
      "metadata": {
        "id": "-FyDnRoZxh6g",
        "colab_type": "code",
        "colab": {
          "base_uri": "https://localhost:8080/",
          "height": 36
        },
        "outputId": "2bc227bb-f19b-41ee-8779-4325fd8b020a"
      },
      "cell_type": "code",
      "source": [
        "questions[0]"
      ],
      "execution_count": 15,
      "outputs": [
        {
          "output_type": "execute_result",
          "data": {
            "text/plain": [
              "'15*7   '"
            ]
          },
          "metadata": {
            "tags": []
          },
          "execution_count": 15
        }
      ]
    },
    {
      "metadata": {
        "id": "bpMzuOjyxh6o",
        "colab_type": "code",
        "colab": {
          "base_uri": "https://localhost:8080/",
          "height": 281
        },
        "outputId": "566d2d15-d7c7-41ee-81b4-d7f20f0bb12e"
      },
      "cell_type": "code",
      "source": [
        "x[0]"
      ],
      "execution_count": 16,
      "outputs": [
        {
          "output_type": "execute_result",
          "data": {
            "text/plain": [
              "array([[False, False, False,  True, False, False, False, False, False,\n",
              "        False, False, False],\n",
              "       [False, False, False, False, False, False, False,  True, False,\n",
              "        False, False, False],\n",
              "       [False,  True, False, False, False, False, False, False, False,\n",
              "        False, False, False],\n",
              "       [False, False, False, False, False, False, False, False, False,\n",
              "         True, False, False],\n",
              "       [ True, False, False, False, False, False, False, False, False,\n",
              "        False, False, False],\n",
              "       [ True, False, False, False, False, False, False, False, False,\n",
              "        False, False, False],\n",
              "       [ True, False, False, False, False, False, False, False, False,\n",
              "        False, False, False]])"
            ]
          },
          "metadata": {
            "tags": []
          },
          "execution_count": 16
        }
      ]
    },
    {
      "metadata": {
        "id": "xGivZH2Exh6s",
        "colab_type": "code",
        "colab": {
          "base_uri": "https://localhost:8080/",
          "height": 243
        },
        "outputId": "98f845b4-38a1-4061-cb91-9f2f67cbbe32"
      },
      "cell_type": "code",
      "source": [
        "y[0]"
      ],
      "execution_count": 17,
      "outputs": [
        {
          "output_type": "execute_result",
          "data": {
            "text/plain": [
              "array([[False, False, False,  True, False, False, False, False, False,\n",
              "        False, False, False],\n",
              "       [False, False,  True, False, False, False, False, False, False,\n",
              "        False, False, False],\n",
              "       [False, False, False, False, False, False, False,  True, False,\n",
              "        False, False, False],\n",
              "       [ True, False, False, False, False, False, False, False, False,\n",
              "        False, False, False],\n",
              "       [ True, False, False, False, False, False, False, False, False,\n",
              "        False, False, False],\n",
              "       [ True, False, False, False, False, False, False, False, False,\n",
              "        False, False, False]])"
            ]
          },
          "metadata": {
            "tags": []
          },
          "execution_count": 17
        }
      ]
    },
    {
      "metadata": {
        "id": "HXTgA13nxh6y",
        "colab_type": "code",
        "colab": {
          "base_uri": "https://localhost:8080/",
          "height": 36
        },
        "outputId": "4534f642-a832-4839-96a4-9da1ecc5c660"
      },
      "cell_type": "code",
      "source": [
        "expected[0]"
      ],
      "execution_count": 18,
      "outputs": [
        {
          "output_type": "execute_result",
          "data": {
            "text/plain": [
              "'105   '"
            ]
          },
          "metadata": {
            "tags": []
          },
          "execution_count": 18
        }
      ]
    },
    {
      "metadata": {
        "id": "2EAN3u8ixh64",
        "colab_type": "code",
        "colab": {}
      },
      "cell_type": "code",
      "source": [
        "# Shuffle (x, y) in unison as the later parts of x will almost all be larger\n",
        "# digits.\n",
        "indices = np.arange(len(y))\n",
        "np.random.shuffle(indices)\n",
        "x = x[indices]\n",
        "y = y[indices]"
      ],
      "execution_count": 0,
      "outputs": []
    },
    {
      "metadata": {
        "id": "IlNfvOd2xh6-",
        "colab_type": "text"
      },
      "cell_type": "markdown",
      "source": [
        "### Step 2: Training/Validation Split"
      ]
    },
    {
      "metadata": {
        "id": "UnJEAezXxh6-",
        "colab_type": "code",
        "colab": {
          "base_uri": "https://localhost:8080/",
          "height": 130
        },
        "outputId": "4b3c23e5-4cce-4ab8-ed0a-7c9cb85941ca"
      },
      "cell_type": "code",
      "source": [
        "# Explicitly set apart 10% for validation data that we never train over.\n",
        "split_at = len(x) - len(x) // 10\n",
        "(x_train, x_val) = x[:split_at], x[split_at:]\n",
        "(y_train, y_val) = y[:split_at], y[split_at:]\n",
        "\n",
        "print('Training Data:')\n",
        "print(x_train.shape)\n",
        "print(y_train.shape)\n",
        "\n",
        "print('Validation Data:')\n",
        "print(x_val.shape)\n",
        "print(y_val.shape)"
      ],
      "execution_count": 19,
      "outputs": [
        {
          "output_type": "stream",
          "text": [
            "Training Data:\n",
            "(45000, 7, 12)\n",
            "(45000, 6, 12)\n",
            "Validation Data:\n",
            "(5000, 7, 12)\n",
            "(5000, 6, 12)\n"
          ],
          "name": "stdout"
        }
      ]
    },
    {
      "metadata": {
        "id": "rS9-7bsXxh7A",
        "colab_type": "text"
      },
      "cell_type": "markdown",
      "source": [
        "### Step 3: Create Model"
      ]
    },
    {
      "metadata": {
        "id": "Jg6qIy1zxh7C",
        "colab_type": "code",
        "colab": {
          "base_uri": "https://localhost:8080/",
          "height": 36
        },
        "outputId": "a3e0cdb9-f619-4ae9-f88e-9e579a7cbb17"
      },
      "cell_type": "code",
      "source": [
        "# input shape: 7 digits, each being 0-9, + or space (12 possibilities)\n",
        "MAXLEN, len(chars)"
      ],
      "execution_count": 20,
      "outputs": [
        {
          "output_type": "execute_result",
          "data": {
            "text/plain": [
              "(7, 12)"
            ]
          },
          "metadata": {
            "tags": []
          },
          "execution_count": 20
        }
      ]
    },
    {
      "metadata": {
        "id": "osYj9kw9xh7G",
        "colab_type": "code",
        "colab": {
          "base_uri": "https://localhost:8080/",
          "height": 319
        },
        "outputId": "758c6b10-7bbf-431c-ba95-de9a0334dca2"
      },
      "cell_type": "code",
      "source": [
        "from keras.models import Sequential\n",
        "from keras import layers\n",
        "\n",
        "# Try replacing LSTM, GRU, or SimpleRNN.\n",
        "# RNN = layers.LSTM\n",
        "RNN = layers.SimpleRNN\n",
        "# RNN = layers.GRU\n",
        "HIDDEN_SIZE = 128\n",
        "BATCH_SIZE = 128\n",
        "\n",
        "print('Build model...')\n",
        "model = Sequential()\n",
        "# encoder: simply encode the same input 4 times \n",
        "model.add(RNN(units=HIDDEN_SIZE, input_shape=(MAXLEN, len(chars))))\n",
        "model.add(layers.RepeatVector(DIGITS *2))\n",
        "\n",
        "# decoder: have 4 temporal outputs one for each of the digits of the results\n",
        "# return_sequences=True tells it to keep all 4 temporal outputs, not only the final one (we need all four digits for the results)\n",
        "model.add(RNN(units=HIDDEN_SIZE, return_sequences=True))\n",
        "\n",
        "model.add(layers.Dense(name='classifier', units=len(chars), activation='softmax'))\n",
        "\n",
        "model.compile(loss='categorical_crossentropy',\n",
        "              optimizer='adam',\n",
        "              metrics=['accuracy'])\n",
        "model.summary()"
      ],
      "execution_count": 25,
      "outputs": [
        {
          "output_type": "stream",
          "text": [
            "Build model...\n",
            "_________________________________________________________________\n",
            "Layer (type)                 Output Shape              Param #   \n",
            "=================================================================\n",
            "simple_rnn_3 (SimpleRNN)     (None, 128)               18048     \n",
            "_________________________________________________________________\n",
            "repeat_vector_2 (RepeatVecto (None, 6, 128)            0         \n",
            "_________________________________________________________________\n",
            "simple_rnn_4 (SimpleRNN)     (None, 6, 128)            32896     \n",
            "_________________________________________________________________\n",
            "classifier (Dense)           (None, 6, 12)             1548      \n",
            "=================================================================\n",
            "Total params: 52,492\n",
            "Trainable params: 52,492\n",
            "Non-trainable params: 0\n",
            "_________________________________________________________________\n"
          ],
          "name": "stdout"
        }
      ]
    },
    {
      "metadata": {
        "id": "0l1TU7UXxh7K",
        "colab_type": "code",
        "colab": {
          "base_uri": "https://localhost:8080/",
          "height": 357
        },
        "outputId": "eda01f93-4808-4d74-ce79-79d7181d1752"
      },
      "cell_type": "code",
      "source": [
        "model.predict(np.array([x_val[0]]))"
      ],
      "execution_count": 26,
      "outputs": [
        {
          "output_type": "execute_result",
          "data": {
            "text/plain": [
              "array([[[0.14441244, 0.04574936, 0.05137076, 0.05948979, 0.10691672,\n",
              "         0.06883045, 0.05966745, 0.06091909, 0.08527803, 0.08932285,\n",
              "         0.09715392, 0.13088916],\n",
              "        [0.25856924, 0.04145455, 0.04642598, 0.06040891, 0.11475559,\n",
              "         0.04878478, 0.04404378, 0.04076315, 0.06858587, 0.05803497,\n",
              "         0.13399154, 0.08418161],\n",
              "        [0.17238353, 0.03802868, 0.07444333, 0.04973732, 0.13406482,\n",
              "         0.04826393, 0.06626695, 0.05739867, 0.05773523, 0.04530224,\n",
              "         0.18135525, 0.07502005],\n",
              "        [0.15975589, 0.02953937, 0.08972628, 0.05411725, 0.11526451,\n",
              "         0.05424192, 0.07472758, 0.05803854, 0.05149968, 0.03990347,\n",
              "         0.17499048, 0.09819505],\n",
              "        [0.18563895, 0.03344136, 0.07740403, 0.04168507, 0.08845405,\n",
              "         0.04901558, 0.07457905, 0.05432715, 0.05213454, 0.05073697,\n",
              "         0.20468472, 0.08789857],\n",
              "        [0.18587734, 0.02947511, 0.07531032, 0.04471239, 0.08155988,\n",
              "         0.04556641, 0.06754129, 0.0637871 , 0.04201061, 0.04585004,\n",
              "         0.23642637, 0.08188318]]], dtype=float32)"
            ]
          },
          "metadata": {
            "tags": []
          },
          "execution_count": 26
        }
      ]
    },
    {
      "metadata": {
        "id": "9OyysGjpxh7Q",
        "colab_type": "code",
        "colab": {
          "base_uri": "https://localhost:8080/",
          "height": 36
        },
        "outputId": "d03d29a2-ae1a-42d9-be9d-6dc5a7e39e67"
      },
      "cell_type": "code",
      "source": [
        "model.predict_classes(np.array([x_val[0]]))"
      ],
      "execution_count": 23,
      "outputs": [
        {
          "output_type": "execute_result",
          "data": {
            "text/plain": [
              "array([[ 6,  6,  6, 11]])"
            ]
          },
          "metadata": {
            "tags": []
          },
          "execution_count": 23
        }
      ]
    },
    {
      "metadata": {
        "id": "3X7uUHhdxh7U",
        "colab_type": "text"
      },
      "cell_type": "markdown",
      "source": [
        "### Step 4: Train"
      ]
    },
    {
      "metadata": {
        "id": "VfPIpWONxh7W",
        "colab_type": "code",
        "colab": {
          "base_uri": "https://localhost:8080/",
          "height": 5752
        },
        "outputId": "883bff9a-f03e-48b4-becb-3b30bcbb2072"
      },
      "cell_type": "code",
      "source": [
        "# Train the model each generation and show predictions against the validation\n",
        "# dataset.\n",
        "for iteration in range(1, 20):\n",
        "    print()\n",
        "    print('-' * 50)\n",
        "    print('Iteration', iteration)\n",
        "    model.fit(x_train, y_train,\n",
        "              batch_size=BATCH_SIZE,\n",
        "              epochs=1,\n",
        "              validation_data=(x_val, y_val))\n",
        "    # Select 10 samples from the validation set at random so we can visualize\n",
        "    # errors.\n",
        "    for i in range(10):\n",
        "        ind = np.random.randint(0, len(x_val))\n",
        "        rowx, rowy = x_val[np.array([ind])], y_val[np.array([ind])]\n",
        "        preds = model.predict_classes(rowx, verbose=0)\n",
        "        q = ctable.decode(rowx[0])\n",
        "        correct = ctable.decode(rowy[0])\n",
        "        guess = ctable.decode(preds[0], calc_argmax=False)\n",
        "        print('Q', q[::-1] if REVERSE else q, end=' ')\n",
        "        print('T', correct, end=' ')\n",
        "        if correct == guess:\n",
        "            print(colors.ok + '☑' + colors.close, end=' ')\n",
        "        else:\n",
        "            print(colors.fail + '☒' + colors.close, end=' ')\n",
        "        print(guess)"
      ],
      "execution_count": 27,
      "outputs": [
        {
          "output_type": "stream",
          "text": [
            "\n",
            "--------------------------------------------------\n",
            "Iteration 1\n",
            "Train on 45000 samples, validate on 5000 samples\n",
            "Epoch 1/1\n",
            "45000/45000 [==============================] - 12s 267us/step - loss: 1.6972 - acc: 0.3723 - val_loss: 1.7376 - val_acc: 0.3464\n",
            "Q 74*597  T 44178  \u001b[91m☒\u001b[0m 47672 \n",
            "Q 27*965  T 26055  \u001b[91m☒\u001b[0m 12875 \n",
            "Q 149*5   T 745    \u001b[91m☒\u001b[0m 145   \n",
            "Q 491*198 T 97218  \u001b[91m☒\u001b[0m 16008 \n",
            "Q 97*522  T 50634  \u001b[91m☒\u001b[0m 14668 \n",
            "Q 959*97  T 93023  \u001b[91m☒\u001b[0m 48875 \n",
            "Q 130*863 T 112190 \u001b[91m☒\u001b[0m 137800\n",
            "Q 18*169  T 3042   \u001b[91m☒\u001b[0m 1248  \n",
            "Q 39*377  T 14703  \u001b[91m☒\u001b[0m 12831 \n",
            "Q 666*12  T 7992   \u001b[91m☒\u001b[0m 1036  \n",
            "\n",
            "--------------------------------------------------\n",
            "Iteration 2\n",
            "Train on 45000 samples, validate on 5000 samples\n",
            "Epoch 1/1\n",
            "18816/45000 [===========>..................] - ETA: 6s - loss: 1.5634 - acc: 0.4096"
          ],
          "name": "stdout"
        },
        {
          "output_type": "stream",
          "text": [
            "45000/45000 [==============================] - 12s 265us/step - loss: 1.5435 - acc: 0.4143 - val_loss: 1.6677 - val_acc: 0.3621\n",
            "Q 436*426 T 185736 \u001b[91m☒\u001b[0m 131062\n",
            "Q 35*690  T 24150  \u001b[91m☒\u001b[0m 28200 \n",
            "Q 800*96  T 76800  \u001b[91m☒\u001b[0m 62200 \n",
            "Q 633*79  T 50007  \u001b[91m☒\u001b[0m 36871 \n",
            "Q 214*964 T 206296 \u001b[91m☒\u001b[0m 111562\n",
            "Q 809*54  T 43686  \u001b[91m☒\u001b[0m 48880 \n",
            "Q 293*71  T 20803  \u001b[91m☒\u001b[0m 11811 \n",
            "Q 733*21  T 15393  \u001b[91m☒\u001b[0m 10811 \n",
            "Q 761*288 T 219168 \u001b[91m☒\u001b[0m 181556\n",
            "Q 20*256  T 5120   \u001b[91m☒\u001b[0m 1200  \n",
            "\n",
            "--------------------------------------------------\n",
            "Iteration 3\n",
            "Train on 45000 samples, validate on 5000 samples\n",
            "Epoch 1/1\n",
            "30592/45000 [===================>..........] - ETA: 3s - loss: 1.4813 - acc: 0.4319"
          ],
          "name": "stdout"
        },
        {
          "output_type": "stream",
          "text": [
            "45000/45000 [==============================] - 12s 267us/step - loss: 1.4696 - acc: 0.4344 - val_loss: 1.5969 - val_acc: 0.3782\n",
            "Q 839*936 T 785304 \u001b[91m☒\u001b[0m 732116\n",
            "Q 616*134 T 82544  \u001b[91m☒\u001b[0m 10406 \n",
            "Q 150*32  T 4800   \u001b[91m☒\u001b[0m 1000  \n",
            "Q 312*37  T 11544  \u001b[91m☒\u001b[0m 12146 \n",
            "Q 620*29  T 17980  \u001b[91m☒\u001b[0m 17440 \n",
            "Q 78*693  T 54054  \u001b[91m☒\u001b[0m 57566 \n",
            "Q 14*378  T 5292   \u001b[91m☒\u001b[0m 1128  \n",
            "Q 133*909 T 120897 \u001b[91m☒\u001b[0m 127177\n",
            "Q 67*665  T 44555  \u001b[91m☒\u001b[0m 41455 \n",
            "Q 410*363 T 148830 \u001b[91m☒\u001b[0m 119760\n",
            "\n",
            "--------------------------------------------------\n",
            "Iteration 4\n",
            "Train on 45000 samples, validate on 5000 samples\n",
            "Epoch 1/1\n",
            "33664/45000 [=====================>........] - ETA: 2s - loss: 1.4197 - acc: 0.4488"
          ],
          "name": "stdout"
        },
        {
          "output_type": "stream",
          "text": [
            "45000/45000 [==============================] - 12s 266us/step - loss: 1.4122 - acc: 0.4514 - val_loss: 1.5467 - val_acc: 0.3951\n",
            "Q 167*605 T 101035 \u001b[91m☒\u001b[0m 11575 \n",
            "Q 92*553  T 50876  \u001b[91m☒\u001b[0m 48448 \n",
            "Q 308*68  T 20944  \u001b[91m☒\u001b[0m 25534 \n",
            "Q 559*701 T 391859 \u001b[91m☒\u001b[0m 355447\n",
            "Q 74*189  T 13986  \u001b[91m☒\u001b[0m 11538 \n",
            "Q 60*534  T 32040  \u001b[91m☒\u001b[0m 35840 \n",
            "Q 16*29   T 464    \u001b[91m☒\u001b[0m 648   \n",
            "Q 992*22  T 21824  \u001b[91m☒\u001b[0m 25878 \n",
            "Q 787*97  T 76339  \u001b[91m☒\u001b[0m 65771 \n",
            "Q 46*492  T 22632  \u001b[91m☒\u001b[0m 25554 \n",
            "\n",
            "--------------------------------------------------\n",
            "Iteration 5\n",
            "Train on 45000 samples, validate on 5000 samples\n",
            "Epoch 1/1\n",
            "34176/45000 [=====================>........] - ETA: 2s - loss: 1.3664 - acc: 0.4667"
          ],
          "name": "stdout"
        },
        {
          "output_type": "stream",
          "text": [
            "45000/45000 [==============================] - 12s 264us/step - loss: 1.3631 - acc: 0.4676 - val_loss: 1.5159 - val_acc: 0.4051\n",
            "Q 166*330 T 54780  \u001b[91m☒\u001b[0m 50160 \n",
            "Q 409*804 T 328836 \u001b[91m☒\u001b[0m 363344\n",
            "Q 21*276  T 5796   \u001b[91m☒\u001b[0m 1474  \n",
            "Q 944*201 T 189744 \u001b[91m☒\u001b[0m 297178\n",
            "Q 863*287 T 247681 \u001b[91m☒\u001b[0m 239111\n",
            "Q 691*26  T 17966  \u001b[91m☒\u001b[0m 15576 \n",
            "Q 612*348 T 212976 \u001b[91m☒\u001b[0m 255574\n",
            "Q 190*32  T 6080   \u001b[91m☒\u001b[0m 6060  \n",
            "Q 40*490  T 19600  \u001b[91m☒\u001b[0m 26400 \n",
            "Q 236*677 T 159772 \u001b[91m☒\u001b[0m 151576\n",
            "\n",
            "--------------------------------------------------\n",
            "Iteration 6\n",
            "Train on 45000 samples, validate on 5000 samples\n",
            "Epoch 1/1\n",
            "33920/45000 [=====================>........] - ETA: 2s - loss: 1.3293 - acc: 0.4790"
          ],
          "name": "stdout"
        },
        {
          "output_type": "stream",
          "text": [
            "45000/45000 [==============================] - 12s 265us/step - loss: 1.3255 - acc: 0.4800 - val_loss: 1.4777 - val_acc: 0.4185\n",
            "Q 737*276 T 203412 \u001b[91m☒\u001b[0m 101554\n",
            "Q 362*549 T 198738 \u001b[91m☒\u001b[0m 141656\n",
            "Q 790*470 T 371300 \u001b[91m☒\u001b[0m 399700\n",
            "Q 896*83  T 74368  \u001b[91m☒\u001b[0m 71252 \n",
            "Q 842*274 T 230708 \u001b[91m☒\u001b[0m 284658\n",
            "Q 206*845 T 174070 \u001b[91m☒\u001b[0m 155500\n",
            "Q 10*870  T 8700   \u001b[91m☒\u001b[0m 9000  \n",
            "Q 207*867 T 179469 \u001b[91m☒\u001b[0m 105557\n",
            "Q 814*332 T 270248 \u001b[91m☒\u001b[0m 205454\n",
            "Q 694*570 T 395580 \u001b[91m☒\u001b[0m 454420\n",
            "\n",
            "--------------------------------------------------\n",
            "Iteration 7\n",
            "Train on 45000 samples, validate on 5000 samples\n",
            "Epoch 1/1\n",
            "34176/45000 [=====================>........] - ETA: 2s - loss: 1.3000 - acc: 0.4884"
          ],
          "name": "stdout"
        },
        {
          "output_type": "stream",
          "text": [
            "45000/45000 [==============================] - 12s 264us/step - loss: 1.2958 - acc: 0.4905 - val_loss: 1.4600 - val_acc: 0.4235\n",
            "Q 60*741  T 44460  \u001b[91m☒\u001b[0m 48760 \n",
            "Q 91*226  T 20566  \u001b[91m☒\u001b[0m 10326 \n",
            "Q 807*802 T 647214 \u001b[91m☒\u001b[0m 700104\n",
            "Q 759*456 T 346104 \u001b[91m☒\u001b[0m 323234\n",
            "Q 960*54  T 51840  \u001b[91m☒\u001b[0m 58220 \n",
            "Q 716*47  T 33652  \u001b[91m☒\u001b[0m 30332 \n",
            "Q 156*79  T 12324  \u001b[91m☒\u001b[0m 13634 \n",
            "Q 59*609  T 35931  \u001b[91m☒\u001b[0m 31481 \n",
            "Q 900*690 T 621000 \u001b[91m☒\u001b[0m 590000\n",
            "Q 575*866 T 497950 \u001b[91m☒\u001b[0m 515760\n",
            "\n",
            "--------------------------------------------------\n",
            "Iteration 8\n",
            "Train on 45000 samples, validate on 5000 samples\n",
            "Epoch 1/1\n",
            "32896/45000 [====================>.........] - ETA: 3s - loss: 1.2772 - acc: 0.4973"
          ],
          "name": "stdout"
        },
        {
          "output_type": "stream",
          "text": [
            "45000/45000 [==============================] - 12s 267us/step - loss: 1.2726 - acc: 0.4986 - val_loss: 1.4416 - val_acc: 0.4266\n",
            "Q 797*939 T 748383 \u001b[91m☒\u001b[0m 713211\n",
            "Q 65*65   T 4225   \u001b[91m☒\u001b[0m 4455  \n",
            "Q 356*228 T 81168  \u001b[91m☒\u001b[0m 90808 \n",
            "Q 296*292 T 86432  \u001b[91m☒\u001b[0m 80818 \n",
            "Q 17*174  T 2958   \u001b[91m☒\u001b[0m 1132  \n",
            "Q 60*601  T 36060  \u001b[91m☒\u001b[0m 38380 \n",
            "Q 691*89  T 61499  \u001b[91m☒\u001b[0m 55107 \n",
            "Q 75*610  T 45750  \u001b[91m☒\u001b[0m 42350 \n",
            "Q 10*503  T 5030   \u001b[91m☒\u001b[0m 8000  \n",
            "Q 207*23  T 4761   \u001b[91m☒\u001b[0m 6003  \n",
            "\n",
            "--------------------------------------------------\n",
            "Iteration 9\n",
            "Train on 45000 samples, validate on 5000 samples\n",
            "Epoch 1/1\n",
            "32896/45000 [====================>.........] - ETA: 3s - loss: 1.2556 - acc: 0.5066"
          ],
          "name": "stdout"
        },
        {
          "output_type": "stream",
          "text": [
            "45000/45000 [==============================] - 12s 265us/step - loss: 1.2547 - acc: 0.5059 - val_loss: 1.4191 - val_acc: 0.4360\n",
            "Q 31*828  T 25668  \u001b[91m☒\u001b[0m 20626 \n",
            "Q 394*4   T 1576   \u001b[91m☒\u001b[0m 1392  \n",
            "Q 56*807  T 45192  \u001b[91m☒\u001b[0m 46632 \n",
            "Q 963*43  T 41409  \u001b[91m☒\u001b[0m 47349 \n",
            "Q 132*459 T 60588  \u001b[91m☒\u001b[0m 46224 \n",
            "Q 301*544 T 163744 \u001b[91m☒\u001b[0m 154534\n",
            "Q 865*976 T 844240 \u001b[91m☒\u001b[0m 772630\n",
            "Q 957*207 T 198099 \u001b[91m☒\u001b[0m 103209\n",
            "Q 159*40  T 6360   \u001b[91m☒\u001b[0m 5660  \n",
            "Q 631*67  T 42277  \u001b[91m☒\u001b[0m 45357 \n",
            "\n",
            "--------------------------------------------------\n",
            "Iteration 10\n",
            "Train on 45000 samples, validate on 5000 samples\n",
            "Epoch 1/1\n",
            "32384/45000 [====================>.........] - ETA: 3s - loss: 1.2373 - acc: 0.5130"
          ],
          "name": "stdout"
        },
        {
          "output_type": "stream",
          "text": [
            "45000/45000 [==============================] - 12s 266us/step - loss: 1.2344 - acc: 0.5142 - val_loss: 1.4154 - val_acc: 0.4406\n",
            "Q 12*108  T 1296   \u001b[91m☒\u001b[0m 1102  \n",
            "Q 779*89  T 69331  \u001b[91m☒\u001b[0m 77073 \n",
            "Q 29*206  T 5974   \u001b[91m☒\u001b[0m 6106  \n",
            "Q 20*926  T 18520  \u001b[91m☒\u001b[0m 18220 \n",
            "Q 272*528 T 143616 \u001b[91m☒\u001b[0m 110018\n",
            "Q 111*164 T 18204  \u001b[91m☒\u001b[0m 11212 \n",
            "Q 841*27  T 22707  \u001b[91m☒\u001b[0m 20709 \n",
            "Q 261*269 T 70209  \u001b[91m☒\u001b[0m 80221 \n",
            "Q 310*89  T 27590  \u001b[91m☒\u001b[0m 27010 \n",
            "Q 168*740 T 124320 \u001b[91m☒\u001b[0m 120120\n",
            "\n",
            "--------------------------------------------------\n",
            "Iteration 11\n",
            "Train on 45000 samples, validate on 5000 samples\n",
            "Epoch 1/1\n",
            "32384/45000 [====================>.........] - ETA: 3s - loss: 1.2223 - acc: 0.5187"
          ],
          "name": "stdout"
        },
        {
          "output_type": "stream",
          "text": [
            "45000/45000 [==============================] - 12s 264us/step - loss: 1.2229 - acc: 0.5184 - val_loss: 1.3957 - val_acc: 0.4453\n",
            "Q 79*142  T 11218  \u001b[91m☒\u001b[0m 11332 \n",
            "Q 194*420 T 81480  \u001b[91m☒\u001b[0m 70540 \n",
            "Q 345*83  T 28635  \u001b[91m☒\u001b[0m 28875 \n",
            "Q 469*480 T 225120 \u001b[91m☒\u001b[0m 205380\n",
            "Q 94*209  T 19646  \u001b[91m☒\u001b[0m 28834 \n",
            "Q 51*409  T 20859  \u001b[91m☒\u001b[0m 21461 \n",
            "Q 57*263  T 14991  \u001b[91m☒\u001b[0m 15261 \n",
            "Q 682*785 T 535370 \u001b[91m☒\u001b[0m 507310\n",
            "Q 394*55  T 21670  \u001b[91m☒\u001b[0m 21420 \n",
            "Q 575*58  T 33350  \u001b[91m☒\u001b[0m 36470 \n",
            "\n",
            "--------------------------------------------------\n",
            "Iteration 12\n",
            "Train on 45000 samples, validate on 5000 samples\n",
            "Epoch 1/1\n",
            "33152/45000 [=====================>........] - ETA: 2s - loss: 1.2076 - acc: 0.5255"
          ],
          "name": "stdout"
        },
        {
          "output_type": "stream",
          "text": [
            "45000/45000 [==============================] - 12s 264us/step - loss: 1.2077 - acc: 0.5247 - val_loss: 1.3988 - val_acc: 0.4441\n",
            "Q 834*93  T 77562  \u001b[91m☒\u001b[0m 88848 \n",
            "Q 405*602 T 243810 \u001b[91m☒\u001b[0m 224440\n",
            "Q 627*495 T 310365 \u001b[91m☒\u001b[0m 308445\n",
            "Q 356*70  T 24920  \u001b[91m☒\u001b[0m 21340 \n",
            "Q 903*761 T 687183 \u001b[91m☒\u001b[0m 655889\n",
            "Q 84*939  T 78876  \u001b[91m☒\u001b[0m 82124 \n",
            "Q 299*165 T 49335  \u001b[91m☒\u001b[0m 46425 \n",
            "Q 98*642  T 62916  \u001b[91m☒\u001b[0m 63448 \n",
            "Q 700*464 T 324800 \u001b[91m☒\u001b[0m 386400\n",
            "Q 824*163 T 134312 \u001b[91m☒\u001b[0m 149448\n",
            "\n",
            "--------------------------------------------------\n",
            "Iteration 13\n",
            "Train on 45000 samples, validate on 5000 samples\n",
            "Epoch 1/1\n",
            "33408/45000 [=====================>........] - ETA: 2s - loss: 1.1933 - acc: 0.5309"
          ],
          "name": "stdout"
        },
        {
          "output_type": "stream",
          "text": [
            "45000/45000 [==============================] - 12s 264us/step - loss: 1.1927 - acc: 0.5317 - val_loss: 1.3804 - val_acc: 0.4508\n",
            "Q 28*719  T 20132  \u001b[91m☒\u001b[0m 18482 \n",
            "Q 930*41  T 38130  \u001b[91m☒\u001b[0m 39790 \n",
            "Q 943*769 T 725167 \u001b[91m☒\u001b[0m 755253\n",
            "Q 20*34   T 680    \u001b[91m☒\u001b[0m 660   \n",
            "Q 85*198  T 16830  \u001b[91m☒\u001b[0m 15520 \n",
            "Q 20*956  T 19120  \u001b[91m☒\u001b[0m 18740 \n",
            "Q 862*79  T 68098  \u001b[91m☒\u001b[0m 67778 \n",
            "Q 506*928 T 469568 \u001b[91m☒\u001b[0m 458858\n",
            "Q 588*631 T 371028 \u001b[91m☒\u001b[0m 355898\n",
            "Q 167*43  T 7181   \u001b[91m☒\u001b[0m 7597  \n",
            "\n",
            "--------------------------------------------------\n",
            "Iteration 14\n",
            "Train on 45000 samples, validate on 5000 samples\n",
            "Epoch 1/1\n",
            "33920/45000 [=====================>........] - ETA: 2s - loss: 1.1821 - acc: 0.5361"
          ],
          "name": "stdout"
        },
        {
          "output_type": "stream",
          "text": [
            "45000/45000 [==============================] - 12s 264us/step - loss: 1.1822 - acc: 0.5355 - val_loss: 1.3701 - val_acc: 0.4621\n",
            "Q 791*845 T 668395 \u001b[91m☒\u001b[0m 617335\n",
            "Q 11*172  T 1892   \u001b[91m☒\u001b[0m 1332  \n",
            "Q 434*56  T 24304  \u001b[91m☒\u001b[0m 21830 \n",
            "Q 13*747  T 9711   \u001b[91m☒\u001b[0m 9037  \n",
            "Q 180*632 T 113760 \u001b[91m☒\u001b[0m 12474 \n",
            "Q 67*683  T 45761  \u001b[91m☒\u001b[0m 44987 \n",
            "Q 92*126  T 11592  \u001b[91m☒\u001b[0m 12018 \n",
            "Q 538*211 T 113518 \u001b[91m☒\u001b[0m 111858\n",
            "Q 43*250  T 10750  \u001b[91m☒\u001b[0m 9050  \n",
            "Q 60*216  T 12960  \u001b[91m☒\u001b[0m 13580 \n",
            "\n",
            "--------------------------------------------------\n",
            "Iteration 15\n",
            "Train on 45000 samples, validate on 5000 samples\n",
            "Epoch 1/1\n",
            "32896/45000 [====================>.........] - ETA: 3s - loss: 1.1637 - acc: 0.5440"
          ],
          "name": "stdout"
        },
        {
          "output_type": "stream",
          "text": [
            "45000/45000 [==============================] - 12s 264us/step - loss: 1.1649 - acc: 0.5427 - val_loss: 1.3536 - val_acc: 0.4636\n",
            "Q 839*789 T 661971 \u001b[91m☒\u001b[0m 652581\n",
            "Q 114*543 T 61902  \u001b[91m☒\u001b[0m 58876 \n",
            "Q 30*674  T 20220  \u001b[91m☒\u001b[0m 21780 \n",
            "Q 35*533  T 18655  \u001b[91m☒\u001b[0m 18865 \n",
            "Q 570*346 T 197220 \u001b[91m☒\u001b[0m 185680\n",
            "Q 87*918  T 79866  \u001b[91m☒\u001b[0m 80126 \n",
            "Q 81*833  T 67473  \u001b[91m☒\u001b[0m 68411 \n",
            "Q 726*52  T 37752  \u001b[91m☒\u001b[0m 36618 \n",
            "Q 361*46  T 16606  \u001b[91m☒\u001b[0m 17182 \n",
            "Q 60*601  T 36060  \u001b[91m☒\u001b[0m 36380 \n",
            "\n",
            "--------------------------------------------------\n",
            "Iteration 16\n",
            "Train on 45000 samples, validate on 5000 samples\n",
            "Epoch 1/1\n",
            "33152/45000 [=====================>........] - ETA: 2s - loss: 1.1560 - acc: 0.5476"
          ],
          "name": "stdout"
        },
        {
          "output_type": "stream",
          "text": [
            "45000/45000 [==============================] - 12s 264us/step - loss: 1.1566 - acc: 0.5473 - val_loss: 1.3455 - val_acc: 0.4716\n",
            "Q 457*6   T 2742   \u001b[91m☒\u001b[0m 2522  \n",
            "Q 488*150 T 73200  \u001b[91m☒\u001b[0m 66800 \n",
            "Q 3*383   T 1149   \u001b[91m☒\u001b[0m 1177  \n",
            "Q 545*555 T 302475 \u001b[91m☒\u001b[0m 371475\n",
            "Q 970*465 T 451050 \u001b[91m☒\u001b[0m 452250\n",
            "Q 39*267  T 10413  \u001b[91m☒\u001b[0m 1083  \n",
            "Q 184*74  T 13616  \u001b[91m☒\u001b[0m 13052 \n",
            "Q 629*41  T 25789  \u001b[91m☒\u001b[0m 25927 \n",
            "Q 370*70  T 25900  \u001b[91m☒\u001b[0m 24900 \n",
            "Q 76*995  T 75620  \u001b[91m☒\u001b[0m 73480 \n",
            "\n",
            "--------------------------------------------------\n",
            "Iteration 17\n",
            "Train on 45000 samples, validate on 5000 samples\n",
            "Epoch 1/1\n",
            "33920/45000 [=====================>........] - ETA: 2s - loss: 1.1431 - acc: 0.5524"
          ],
          "name": "stdout"
        },
        {
          "output_type": "stream",
          "text": [
            "45000/45000 [==============================] - 12s 263us/step - loss: 1.1425 - acc: 0.5526 - val_loss: 1.3274 - val_acc: 0.4771\n",
            "Q 52*197  T 10244  \u001b[91m☒\u001b[0m 9024  \n",
            "Q 295*418 T 123310 \u001b[91m☒\u001b[0m 121810\n",
            "Q 29*554  T 16066  \u001b[91m☒\u001b[0m 15024 \n",
            "Q 805*8   T 6440   \u001b[91m☒\u001b[0m 6840  \n",
            "Q 78*904  T 70512  \u001b[91m☒\u001b[0m 77474 \n",
            "Q 71*504  T 35784  \u001b[91m☒\u001b[0m 32104 \n",
            "Q 20*956  T 19120  \u001b[91m☒\u001b[0m 18540 \n",
            "Q 240*972 T 233280 \u001b[91m☒\u001b[0m 222180\n",
            "Q 295*79  T 23305  \u001b[91m☒\u001b[0m 23405 \n",
            "Q 843*22  T 18546  \u001b[91m☒\u001b[0m 19748 \n",
            "\n",
            "--------------------------------------------------\n",
            "Iteration 18\n",
            "Train on 45000 samples, validate on 5000 samples\n",
            "Epoch 1/1\n",
            "33152/45000 [=====================>........] - ETA: 2s - loss: 1.1345 - acc: 0.5558"
          ],
          "name": "stdout"
        },
        {
          "output_type": "stream",
          "text": [
            "45000/45000 [==============================] - 12s 264us/step - loss: 1.1340 - acc: 0.5557 - val_loss: 1.3401 - val_acc: 0.4679\n",
            "Q 658*178 T 117124 \u001b[91m☒\u001b[0m 114106\n",
            "Q 74*590  T 43660  \u001b[91m☒\u001b[0m 47340 \n",
            "Q 481*627 T 301587 \u001b[91m☒\u001b[0m 282229\n",
            "Q 393*246 T 96678  \u001b[91m☒\u001b[0m 90254 \n",
            "Q 589*618 T 364002 \u001b[91m☒\u001b[0m 358106\n",
            "Q 69*790  T 54510  \u001b[91m☒\u001b[0m 51410 \n",
            "Q 77*702  T 54054  \u001b[91m☒\u001b[0m 50758 \n",
            "Q 907*76  T 68932  \u001b[91m☒\u001b[0m 65782 \n",
            "Q 190*32  T 6080   \u001b[91m☒\u001b[0m 6980  \n",
            "Q 762*493 T 375666 \u001b[91m☒\u001b[0m 352276\n",
            "\n",
            "--------------------------------------------------\n",
            "Iteration 19\n",
            "Train on 45000 samples, validate on 5000 samples\n",
            "Epoch 1/1\n",
            "34432/45000 [=====================>........] - ETA: 2s - loss: 1.1218 - acc: 0.5618"
          ],
          "name": "stdout"
        },
        {
          "output_type": "stream",
          "text": [
            "45000/45000 [==============================] - 12s 264us/step - loss: 1.1197 - acc: 0.5626 - val_loss: 1.3097 - val_acc: 0.4859\n",
            "Q 870*93  T 80910  \u001b[91m☒\u001b[0m 88330 \n",
            "Q 761*71  T 54031  \u001b[91m☒\u001b[0m 59581 \n",
            "Q 566*944 T 534304 \u001b[91m☒\u001b[0m 510052\n",
            "Q 536*255 T 136680 \u001b[91m☒\u001b[0m 134050\n",
            "Q 783*38  T 29754  \u001b[91m☒\u001b[0m 31598 \n",
            "Q 690*29  T 20010  \u001b[91m☒\u001b[0m 18710 \n",
            "Q 51*569  T 29019  \u001b[91m☒\u001b[0m 20507 \n",
            "Q 736*65  T 47840  \u001b[91m☒\u001b[0m 41160 \n",
            "Q 91*466  T 42406  \u001b[91m☒\u001b[0m 40404 \n",
            "Q 551*73  T 40223  \u001b[91m☒\u001b[0m 47553 \n"
          ],
          "name": "stdout"
        }
      ]
    },
    {
      "metadata": {
        "id": "qfkVCFsYxh7Y",
        "colab_type": "code",
        "colab": {
          "base_uri": "https://localhost:8080/",
          "height": 281
        },
        "outputId": "b9729929-661d-42d0-d541-da211e998032"
      },
      "cell_type": "code",
      "source": [
        "x_val[0]"
      ],
      "execution_count": 30,
      "outputs": [
        {
          "output_type": "execute_result",
          "data": {
            "text/plain": [
              "array([[False, False, False, False,  True, False, False, False, False,\n",
              "        False, False, False],\n",
              "       [False, False, False, False,  True, False, False, False, False,\n",
              "        False, False, False],\n",
              "       [False, False, False, False, False, False, False,  True, False,\n",
              "        False, False, False],\n",
              "       [False,  True, False, False, False, False, False, False, False,\n",
              "        False, False, False],\n",
              "       [False, False, False, False, False, False, False, False, False,\n",
              "        False, False,  True],\n",
              "       [False, False, False, False, False, False,  True, False, False,\n",
              "        False, False, False],\n",
              "       [False, False, False, False,  True, False, False, False, False,\n",
              "        False, False, False]])"
            ]
          },
          "metadata": {
            "tags": []
          },
          "execution_count": 30
        }
      ]
    },
    {
      "metadata": {
        "id": "lEzR9cXpxh7e",
        "colab_type": "code",
        "colab": {
          "base_uri": "https://localhost:8080/",
          "height": 375
        },
        "outputId": "24e84d31-e21b-4cfb-c210-7345dd55a4d5"
      },
      "cell_type": "code",
      "source": [
        "model.predict(np.array([x_val[0]]))"
      ],
      "execution_count": 31,
      "outputs": [
        {
          "output_type": "execute_result",
          "data": {
            "text/plain": [
              "array([[[6.7103009e-08, 5.0901244e-10, 6.7835720e-07, 5.8451429e-02,\n",
              "         9.3994659e-01, 1.5696103e-03, 1.0932302e-05, 2.1810696e-07,\n",
              "         6.1855371e-07, 1.3284932e-06, 1.8718791e-06, 1.6600618e-05],\n",
              "        [1.6752510e-08, 1.5015644e-07, 2.0230924e-01, 4.8340365e-01,\n",
              "         1.4549074e-01, 3.4465164e-02, 3.7422872e-03, 1.5682701e-03,\n",
              "         2.8963336e-03, 5.2932352e-03, 2.7150244e-02, 9.3680702e-02],\n",
              "        [8.6850672e-11, 8.6863349e-07, 2.2704613e-01, 1.6979282e-01,\n",
              "         9.6485205e-02, 8.3994567e-02, 5.8525663e-02, 4.7968410e-02,\n",
              "         5.6849863e-02, 5.6156792e-02, 9.1090731e-02, 1.1208892e-01],\n",
              "        [1.1314254e-10, 1.3827886e-07, 9.4474450e-02, 1.2675898e-01,\n",
              "         8.3980039e-02, 6.1526664e-02, 9.0991095e-02, 7.0731133e-02,\n",
              "         8.5424930e-02, 8.6577818e-02, 1.6866240e-01, 1.3087241e-01],\n",
              "        [1.0930734e-08, 7.0225639e-08, 4.7242410e-02, 6.8379477e-02,\n",
              "         8.3814323e-02, 1.5511125e-01, 1.3301560e-01, 6.6718102e-02,\n",
              "         1.5219708e-01, 1.1652854e-01, 1.1026409e-01, 6.6729024e-02],\n",
              "        [3.4972330e-05, 1.8557357e-07, 9.9668342e-01, 1.6312714e-07,\n",
              "         6.8282709e-04, 1.9296469e-07, 5.1018334e-04, 1.0223122e-05,\n",
              "         9.6797140e-04, 4.6548598e-06, 1.1035146e-03, 1.6738089e-06]]],\n",
              "      dtype=float32)"
            ]
          },
          "metadata": {
            "tags": []
          },
          "execution_count": 31
        }
      ]
    },
    {
      "metadata": {
        "id": "dOjdgNPixh7i",
        "colab_type": "code",
        "colab": {},
        "outputId": "b2504a80-12ec-472c-a87c-a9c7d2d39bca"
      },
      "cell_type": "code",
      "source": [
        "model.predict_classes(np.array([x_val[0]]))"
      ],
      "execution_count": 0,
      "outputs": [
        {
          "output_type": "execute_result",
          "data": {
            "text/plain": [
              "array([[ 8, 11,  5,  0]], dtype=int64)"
            ]
          },
          "metadata": {
            "tags": []
          },
          "execution_count": 25
        }
      ]
    },
    {
      "metadata": {
        "id": "gP_yLYXZxh7m",
        "colab_type": "code",
        "colab": {}
      },
      "cell_type": "code",
      "source": [
        ""
      ],
      "execution_count": 0,
      "outputs": []
    }
  ]
}